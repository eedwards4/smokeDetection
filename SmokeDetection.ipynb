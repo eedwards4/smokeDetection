{
 "cells": [
  {
   "cell_type": "code",
   "execution_count": 16,
   "id": "fb900138-3695-4106-be73-70fc6f14f223",
   "metadata": {},
   "outputs": [],
   "source": [
    "import sys\n",
    "import torch\n",
    "import locale\n",
    "from torch import cuda\n",
    "import skimage.io as io\n",
    "from pathlib import Path\n",
    "import supervision as sv\n",
    "from ultralytics import YOLO\n",
    "from matplotlib import pyplot as plt\n",
    "locale.getpreferredencoding = lambda: \"UTF-8\""
   ]
  },
  {
   "cell_type": "code",
   "execution_count": 17,
   "id": "f9dcfa70-8898-4367-975d-1785a5af0503",
   "metadata": {},
   "outputs": [
    {
     "name": "stdout",
     "output_type": "stream",
     "text": [
      "Creating dir structure...\n",
      "   /home/evan/Documents/code/school/SmokeDetection/datasets\n",
      "   /home/evan/Documents/code/school/SmokeDetection/processed\n",
      "   /home/evan/Documents/code/school/SmokeDetection/datasets/VOC2020\n",
      "   /home/evan/Documents/code/school/SmokeDetection/datasets/VOC2020/JPEGImages\n",
      "   /home/evan/Documents/code/school/SmokeDetection/datasets/VOC2020/Annotations\n",
      "   /home/evan/Documents/code/school/SmokeDetection/processed/VOC2020\n",
      "Done!\n"
     ]
    }
   ],
   "source": [
    "# Code to check if we're in collab or on a local environment\n",
    "try:\n",
    "    import google.collab\n",
    "    IN_COLLAB = True\n",
    "except:\n",
    "    IN_COLLAB = False\n",
    "\n",
    "# Setup file paths\n",
    "if (IN_COLLAB):\n",
    "    path_map = {'DS_ROOT': Path('/datasets')}\n",
    "    path_map['PROC_ROOT'] = Path('/processed')\n",
    "else:\n",
    "    path_map = {'DS_ROOT': Path('./datasets')}\n",
    "    path_map['PROC_ROOT'] = Path('./processed')\n",
    "\n",
    "# Src data\n",
    "path_map['DS_ONE'] = path_map['DS_ROOT'] / 'VOC2020'\n",
    "path_map['DS_ONE_IMG'] = path_map['DS_ONE'] / 'JPEGImages'\n",
    "path_map['DS_ONE_ANN'] = path_map['DS_ONE'] / 'Annotations'\n",
    "\n",
    "# Processed dataset\n",
    "path_map['DS_ONE_PROC'] = path_map['PROC_ROOT'] / 'VOC2020'\n",
    "path_map['DS_ONE_YAML'] = path_map['DS_ONE_PROC'] / 'data.yaml'\n",
    "\n",
    "# Confirm file paths\n",
    "def create_dirs():\n",
    "    print('Creating dir structure...')\n",
    "    for name, path in path_map.items():\n",
    "        if isinstance(path, Path) and not path.suffix:\n",
    "            path = path.resolve()\n",
    "            path_map[name] = path\n",
    "            path.mkdir(parents=True, exist_ok=True)\n",
    "            print('  ',path)\n",
    "    print('Done!')\n",
    "\n",
    "create_dirs()"
   ]
  },
  {
   "cell_type": "code",
   "execution_count": 10,
   "id": "8aed6516-d4d2-49d0-a9a7-b7bbbb8b284b",
   "metadata": {},
   "outputs": [],
   "source": [
    "def make_yaml(yaml_path, class_map):\n",
    "    rel_train = 'images/test'\n",
    "    rel_val = 'images/val'\n",
    "    with open(yaml_path, 'w') as f:\n",
    "        f.write(f\"path: {proc_ds}\\n\")\n",
    "        f.write(f\"train: {rel_train}\\n\")\n",
    "        f.write(f\"val: {rel_val}\\n\")\n",
    "        f.write(f\"names:\\n\")\n",
    "        for id, name in class_map.items():\n",
    "            f.write(f\"  {id}: {name}\\n\")"
   ]
  },
  {
   "cell_type": "code",
   "execution_count": null,
   "id": "7b11abb3-a231-44ec-83c9-659e8e679709",
   "metadata": {},
   "outputs": [],
   "source": [
    "def make_classes():\n",
    "    # TODO: actually make the classes lol"
   ]
  },
  {
   "cell_type": "code",
   "execution_count": null,
   "id": "a35677ee-50a2-4598-af87-0353cd7b50f3",
   "metadata": {},
   "outputs": [],
   "source": [
    "classes = make_classes\n",
    "make_data_yaml(path_map['DS_ONE_YAML'], classes)"
   ]
  },
  {
   "cell_type": "code",
   "execution_count": null,
   "id": "a25562d1-b533-4db6-b965-6e3681f3447f",
   "metadata": {},
   "outputs": [],
   "source": [
    "def check_equal(ds, expected_num: int|None = None):\n",
    "    assert(len(ds.image_paths) == len(ds.annotations))\n",
    "    if expected_num is not None:\n",
    "        assert(len(ds.image_paths) == expected_num)"
   ]
  },
  {
   "cell_type": "code",
   "execution_count": null,
   "id": "9e6ebb40-e899-488c-8f45-3ebddbdd7291",
   "metadata": {},
   "outputs": [],
   "source": [
    "ds = sv.DetectionDataset.from_yolo(images_directory_path=path_map['DS_ONE_IMG'], \n",
    "                                   annotations_directory_path=path_map['DS_ONE_ANN'], \n",
    "                                   data_yaml_path=path_map['DS_ONE_YAML']\n",
    ")\n",
    "check_equal(ds)\n",
    "print(type(ds))"
   ]
  },
  {
   "cell_type": "code",
   "execution_count": null,
   "id": "3fd57a52-763c-4203-a424-3f88012dc705",
   "metadata": {},
   "outputs": [],
   "source": [
    "def split_data(ds, split=0.7, shuffle=True, seed=None):\n",
    "  return ds.split(split_ratio=split, shuffle=shuffle, random_state=seed)\n",
    "\n",
    "def split_70_25_5(ds, seed):\n",
    "  ds_train, ds_val = split_data(ds, split=0.7, seed=seed)\n",
    "  ds_val, ds_test = split_data(ds_val, split=0.83, seed=seed)\n",
    "  return ds_train, ds_val, ds_test"
   ]
  },
  {
   "cell_type": "code",
   "execution_count": null,
   "id": "ba5f65bc-b8f3-4b59-b302-6e848687532d",
   "metadata": {},
   "outputs": [],
   "source": [
    "ds_train, ds_val, ds_test = split_70_25_5(ds, 0)\n",
    "\n",
    "check_equal(ds_train)\n",
    "check_equal(ds_test)\n",
    "check_equal(ds_val)"
   ]
  },
  {
   "cell_type": "code",
   "execution_count": null,
   "id": "ea3ee751-70b4-49ec-b331-9f65beb4fe97",
   "metadata": {},
   "outputs": [],
   "source": []
  }
 ],
 "metadata": {
  "kernelspec": {
   "display_name": "Python 3 (ipykernel)",
   "language": "python",
   "name": "python3"
  },
  "language_info": {
   "codemirror_mode": {
    "name": "ipython",
    "version": 3
   },
   "file_extension": ".py",
   "mimetype": "text/x-python",
   "name": "python",
   "nbconvert_exporter": "python",
   "pygments_lexer": "ipython3",
   "version": "3.10.15"
  }
 },
 "nbformat": 4,
 "nbformat_minor": 5
}
