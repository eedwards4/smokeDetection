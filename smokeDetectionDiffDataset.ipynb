{
 "cells": [
  {
   "cell_type": "code",
   "execution_count": null,
   "id": "e4a10bfb-73c8-4698-8dc3-a360e84c5e84",
   "metadata": {},
   "outputs": [],
   "source": [
    "import sys\n",
    "import torch\n",
    "import locale\n",
    "from torch import cuda\n",
    "import skimage.io as io\n",
    "from pathlib import Path\n",
    "import supervision as sv\n",
    "from ultralytics import YOLO\n",
    "from matplotlib import pyplot as plt\n",
    "locale.getpreferredencoding = lambda: \"UTF-8\""
   ]
  },
  {
   "cell_type": "code",
   "execution_count": null,
   "id": "36078eea-6fb1-4831-a8ad-8f1830574aa0",
   "metadata": {},
   "outputs": [],
   "source": [
    "# Code to check if we're in collab or on a local environment\n",
    "try:\n",
    "    import google.collab\n",
    "    IN_COLLAB = True\n",
    "except:\n",
    "    IN_COLLAB = False\n",
    "\n",
    "# Setup file paths\n",
    "if (IN_COLLAB):\n",
    "    path_map = {'DS_ROOT': Path('/datasets')}\n",
    "    path_map['PROC_ROOT'] = Path('/processed')\n",
    "else:\n",
    "    path_map = {'DS_ROOT': Path('./datasets')}\n",
    "    path_map['PROC_ROOT'] = Path('./processed')\n",
    "\n",
    "# Src data\n",
    "path_map['DS_ONE'] = path_map['DS_ROOT'] / 'D-Fire'\n",
    "# train\n",
    "path_map['DS_TRAIN_IMG'] = path_map['DS_ONE'] / 'train/images'\n",
    "path_map['DS_TRAIN_LAB'] = path_map['DS_ONE'] / 'train/labels'\n",
    "# test\n",
    "path_map['DS_TEST_IMG'] = path_map['DS_ONE'] / 'test/images'\n",
    "path_map['DS_TEST_LAB'] = path_map['DS_ONE'] / 'test/labels'\n",
    "\n",
    "# Processed dataset\n",
    "#path_map['DS_ONE_PROC'] = path_map['PROC_ROOT'] / 'VOC2020'\n",
    "#path_map['DS_ONE_YAML'] = path_map['DS_ONE_PROC'] / 'data.yaml'\n",
    "\n",
    "# Confirm file paths\n",
    "def create_dirs():\n",
    "    print('Creating dir structure...')\n",
    "    for name, path in path_map.items():\n",
    "        if isinstance(path, Path) and not path.suffix:\n",
    "            path = path.resolve()\n",
    "            path_map[name] = path\n",
    "            path.mkdir(parents=True, exist_ok=True)\n",
    "            print('  ',path)\n",
    "    print('Done!')\n",
    "\n",
    "create_dirs()"
   ]
  },
  {
   "cell_type": "code",
   "execution_count": null,
   "id": "94aa03bf-de4a-4adf-bf60-d45d31c4075f",
   "metadata": {},
   "outputs": [],
   "source": [
    "def make_yaml(yaml_path, class_map):\n",
    "    rel_train = 'images/test'\n",
    "    rel_val = 'images/val'\n",
    "    with open(yaml_path, 'w') as f:\n",
    "        f.write(f\"path: {proc_ds}\\n\")\n",
    "        f.write(f\"train: {rel_train}\\n\")\n",
    "        f.write(f\"val: {rel_val}\\n\")\n",
    "        f.write(f\"names:\\n\")\n",
    "        for id, name in class_map.items():\n",
    "            f.write(f\"  {id}: {name}\\n\")"
   ]
  },
  {
   "cell_type": "code",
   "execution_count": null,
   "id": "5937817b-96c2-4908-90ac-8fd8cd538791",
   "metadata": {},
   "outputs": [],
   "source": [
    "def make_classes():\n",
    "    # TODO: actually make the classes lol"
   ]
  },
  {
   "cell_type": "code",
   "execution_count": null,
   "id": "3a0f628c-632a-49e8-afdb-ea1e503a8d99",
   "metadata": {},
   "outputs": [],
   "source": [
    "classes = make_classes\n",
    "make_data_yaml(path_map['DS_ONE_YAML'], classes)"
   ]
  },
  {
   "cell_type": "code",
   "execution_count": null,
   "id": "f4306aa9-0be3-4939-943b-f743c464857c",
   "metadata": {},
   "outputs": [],
   "source": [
    "def check_equal(ds, expected_num: int|None = None):\n",
    "    assert(len(ds.image_paths) == len(ds.annotations))\n",
    "    if expected_num is not None:\n",
    "        assert(len(ds.image_paths) == expected_num)"
   ]
  },
  {
   "cell_type": "code",
   "execution_count": null,
   "id": "b1841451-ef84-455c-aa9c-3827671fc9c6",
   "metadata": {},
   "outputs": [],
   "source": [
    "ds = sv.DetectionDataset.from_yolo(images_directory_path=path_map['DS_ONE_IMG'], \n",
    "                                   annotations_directory_path=path_map['DS_ONE_ANN'], \n",
    "                                   data_yaml_path=path_map['DS_ONE_YAML']\n",
    ")\n",
    "check_equal(ds)\n",
    "print(type(ds))"
   ]
  },
  {
   "cell_type": "code",
   "execution_count": null,
   "id": "68f9d0c7-d403-4252-b97e-160999409ce7",
   "metadata": {},
   "outputs": [],
   "source": [
    "def split_data(ds, split=0.7, shuffle=True, seed=None):\n",
    "  return ds.split(split_ratio=split, shuffle=shuffle, random_state=seed)\n",
    "\n",
    "def split_70_25_5(ds, seed):\n",
    "  ds_train, ds_val = split_data(ds, split=0.7, seed=seed)\n",
    "  ds_val, ds_test = split_data(ds_val, split=0.83, seed=seed)\n",
    "  return ds_train, ds_val, ds_test"
   ]
  },
  {
   "cell_type": "code",
   "execution_count": null,
   "id": "9a354c72-8371-4bf1-8a68-faf97b657721",
   "metadata": {},
   "outputs": [],
   "source": [
    "ds_train, ds_val, ds_test = split_70_25_5(ds, 0)\n",
    "\n",
    "check_equal(ds_train)\n",
    "check_equal(ds_test)\n",
    "check_equal(ds_val)"
   ]
  },
  {
   "cell_type": "code",
   "execution_count": null,
   "id": "d6e9293c-3545-441b-9044-705c7def6fe0",
   "metadata": {},
   "outputs": [],
   "source": []
  }
 ],
 "metadata": {
  "kernelspec": {
   "display_name": "Python 3 (ipykernel)",
   "language": "python",
   "name": "python3"
  },
  "language_info": {
   "codemirror_mode": {
    "name": "ipython",
    "version": 3
   },
   "file_extension": ".py",
   "mimetype": "text/x-python",
   "name": "python",
   "nbconvert_exporter": "python",
   "pygments_lexer": "ipython3",
   "version": "3.10.15"
  }
 },
 "nbformat": 4,
 "nbformat_minor": 5
}
